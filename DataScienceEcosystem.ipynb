{
 "cells": [
  {
   "cell_type": "markdown",
   "id": "4825d511-c5a2-4fb1-b47c-1beb32244006",
   "metadata": {},
   "source": [
    "# Data Science Tools and Ecosystem"
   ]
  },
  {
   "cell_type": "markdown",
   "id": "a82475bf-32b0-4d74-b8f5-4f1e7429afa4",
   "metadata": {},
   "source": [
    "In this notebook, Data Science Tools and Ecosystem are summarized."
   ]
  },
  {
   "cell_type": "markdown",
   "id": "ad99d341-c23a-4485-83d8-938b06b48ab2",
   "metadata": {},
   "source": [
    "Some of the popular languages that Data Scientists use are:\n",
    "1. Python\n",
    "2. R language\n",
    "3. SQL"
   ]
  },
  {
   "cell_type": "markdown",
   "id": "6ee49b98-001b-41eb-9324-0e55e753bca5",
   "metadata": {},
   "source": [
    "Some of the commonly used libraries used by Data Scientists include:\n",
    "1. Pandas\n",
    "2. NumPy\n",
    "3. Matplotlib"
   ]
  },
  {
   "cell_type": "markdown",
   "id": "680a4081-c676-43f6-9ee4-4eaec0dc141a",
   "metadata": {},
   "source": [
    "| Data Science Tools |\n",
    "|--------------------|\n",
    "| Jupyter Notebook   |\n",
    "| RStudio            |\n",
    "| Visual Studio Code |"
   ]
  },
  {
   "cell_type": "markdown",
   "id": "3ddd2829-49e6-42a7-a6ed-b11f5ff5811e",
   "metadata": {},
   "source": [
    "### Below are a few examples of evaluating arithmetic expressions in Python"
   ]
  },
  {
   "cell_type": "code",
   "execution_count": 10,
   "id": "49043719-dad5-4d74-9e54-5c3548acb071",
   "metadata": {},
   "outputs": [
    {
     "data": {
      "text/plain": [
       "17"
      ]
     },
     "execution_count": 10,
     "metadata": {},
     "output_type": "execute_result"
    }
   ],
   "source": [
    "# This a simple arithmetic expression to mutiply then add integers.\n",
    "(3*4)+5"
   ]
  },
  {
   "cell_type": "code",
   "execution_count": 11,
   "id": "36cc4a4c-71d7-4ba1-a722-de60781d9576",
   "metadata": {},
   "outputs": [
    {
     "data": {
      "text/plain": [
       "3.3333333333333335"
      ]
     },
     "execution_count": 11,
     "metadata": {},
     "output_type": "execute_result"
    }
   ],
   "source": [
    "# This will convert 200 minutes to hours by diving by 60.\n",
    "200/60"
   ]
  },
  {
   "cell_type": "markdown",
   "id": "bf2d5e2d-4a03-434b-8277-2e09c44d6f9e",
   "metadata": {},
   "source": [
    "**Objectives:**\n",
    "- List popular languages for Data Science\n",
    "- Identify common tools used in Data Science\n",
    "- Describe popular libraries used in Data Science\n",
    "- Perform basic arithmetic expressions in Python\n",
    "- Understand the importance of Data Science in various fields"
   ]
  },
  {
   "cell_type": "markdown",
   "id": "9047e280-2a45-4279-af65-f75e5dbe0d37",
   "metadata": {},
   "source": [
    "## Author\n",
    "Beebagre Tahir"
   ]
  },
  {
   "cell_type": "code",
   "execution_count": null,
   "id": "14e776d9-bafd-4673-8f35-12c6c9d55a7b",
   "metadata": {},
   "outputs": [],
   "source": []
  }
 ],
 "metadata": {
  "kernelspec": {
   "display_name": "Python 3 (ipykernel)",
   "language": "python",
   "name": "python3"
  },
  "language_info": {
   "codemirror_mode": {
    "name": "ipython",
    "version": 3
   },
   "file_extension": ".py",
   "mimetype": "text/x-python",
   "name": "python",
   "nbconvert_exporter": "python",
   "pygments_lexer": "ipython3",
   "version": "3.12.8"
  }
 },
 "nbformat": 4,
 "nbformat_minor": 5
}
